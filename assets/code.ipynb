{
 "cells": [
  {
   "cell_type": "markdown",
   "metadata": {},
   "source": [
    "__load data"
   ]
  },
  {
   "cell_type": "code",
   "execution_count": 1,
   "metadata": {},
   "outputs": [],
   "source": [
    "import pandas as pd\n",
    "df = pd.read_csv(\"ML tutorial data (county income).csv\", sep=',', encoding='latin-1')"
   ]
  },
  {
   "cell_type": "code",
   "execution_count": 2,
   "metadata": {},
   "outputs": [
    {
     "data": {
      "text/plain": [
       "['GEOID',\n",
       " 'INTPTLAT',\n",
       " 'INTPTLONG',\n",
       " 'Percentage_whites',\n",
       " 'Percentage_blacks',\n",
       " 'Median_Income',\n",
       " 'Percent_No_HighSchool',\n",
       " 'Percent_HighSchool_only',\n",
       " 'Percent_Some_College',\n",
       " 'Percent_Bachelor_or_higher',\n",
       " 'crime_per_person',\n",
       " 'population_size',\n",
       " 'Ratio_Employed',\n",
       " 'percent_democrat_votes2016',\n",
       " 'percent_republican_votes2016',\n",
       " 'voter_participation',\n",
       " 'sex_ratio',\n",
       " 'median_age',\n",
       " 'percent_democrat_votes2012',\n",
       " 'percent_republican_votes2012',\n",
       " 'tblack',\n",
       " 'twhite',\n",
       " 'X..12',\n",
       " '.',\n",
       " 'the']"
      ]
     },
     "execution_count": 2,
     "metadata": {},
     "output_type": "execute_result"
    }
   ],
   "source": [
    "list(df)[0:25]"
   ]
  },
  {
   "cell_type": "markdown",
   "metadata": {},
   "source": [
    "\n",
    "__choose predictors and outcome (also preprocessing)\n"
   ]
  },
  {
   "cell_type": "code",
   "execution_count": 3,
   "metadata": {},
   "outputs": [],
   "source": [
    "predictors = df.loc[:, \"Percent_No_HighSchool\" : \"Percent_Bachelor_or_higher\"]\n",
    "outcome = df.loc[:,\"Median_Income\"]"
   ]
  },
  {
   "cell_type": "markdown",
   "metadata": {},
   "source": [
    "\n",
    "__choose a model\n"
   ]
  },
  {
   "cell_type": "code",
   "execution_count": 6,
   "metadata": {},
   "outputs": [],
   "source": [
    "from sklearn.linear_model import LinearRegression\n",
    "Regr = LinearRegression()"
   ]
  },
  {
   "cell_type": "markdown",
   "metadata": {},
   "source": [
    "\n",
    "__fit and cross validate model (easy way without hyperparameters)\n"
   ]
  },
  {
   "cell_type": "code",
   "execution_count": 7,
   "metadata": {
    "scrolled": true
   },
   "outputs": [
    {
     "name": "stdout",
     "output_type": "stream",
     "text": [
      "[ 0.54763227  0.23312451  0.38968369  0.50994311 -0.01115834  0.46640691\n",
      "  0.41416274  0.46438321  0.43303891  0.44613911]\n",
      "0.389335611706\n"
     ]
    }
   ],
   "source": [
    "from sklearn.model_selection import cross_val_score\n",
    "import numpy as np\n",
    "\n",
    "results = cross_val_score(Regr, predictors, outcome, cv = 10, scoring = \"r2\")\n",
    "print(results)\n",
    "print(np.mean(results))\n"
   ]
  },
  {
   "cell_type": "markdown",
   "metadata": {},
   "source": [
    "\n",
    "__Now, Let's try something else\n",
    "\n",
    "__New concepts:\n",
    " We use a decision tree.\n",
    " We tune the hyperparameter \"max_depth\"\n",
    "\n",
    "__First step: put aside some test data"
   ]
  },
  {
   "cell_type": "code",
   "execution_count": 8,
   "metadata": {},
   "outputs": [],
   "source": [
    "from sklearn.model_selection import GridSearchCV, train_test_split\n",
    "\n",
    "predictors = df.loc[:, [\"Ratio_Employed\", \"population_size\", \"percent_democrat_votes2016\", \"percent_republican_votes2016\"]]\n",
    "outcome = df.loc[:,\"Median_Income\"]\n",
    "\n",
    "predictors_train, predictors_test, outcome_train, outcome_test = train_test_split(predictors, outcome, test_size=300, random_state=42)\n"
   ]
  },
  {
   "cell_type": "markdown",
   "metadata": {},
   "source": [
    "\n",
    "__Give possible values for hyperparameters\n"
   ]
  },
  {
   "cell_type": "code",
   "execution_count": 9,
   "metadata": {},
   "outputs": [],
   "source": [
    "hyperparameters = {\"max_depth\": [2,3,4,None]}"
   ]
  },
  {
   "cell_type": "markdown",
   "metadata": {},
   "source": [
    "__fit the decision tree with all given parameter settings"
   ]
  },
  {
   "cell_type": "code",
   "execution_count": 10,
   "metadata": {},
   "outputs": [
    {
     "data": {
      "text/plain": [
       "GridSearchCV(cv=10, error_score='raise',\n",
       "       estimator=DecisionTreeRegressor(criterion='mse', max_depth=None, max_features=None,\n",
       "           max_leaf_nodes=None, min_impurity_split=1e-07,\n",
       "           min_samples_leaf=1, min_samples_split=2,\n",
       "           min_weight_fraction_leaf=0.0, presort=False, random_state=None,\n",
       "           splitter='best'),\n",
       "       fit_params={}, iid=True, n_jobs=1,\n",
       "       param_grid={'max_depth': [2, 3, 4, None]}, pre_dispatch='2*n_jobs',\n",
       "       refit=True, return_train_score=True, scoring=None, verbose=0)"
      ]
     },
     "execution_count": 10,
     "metadata": {},
     "output_type": "execute_result"
    }
   ],
   "source": [
    "from sklearn import tree\n",
    "\n",
    "decTree = tree.DecisionTreeRegressor() #inititate\n",
    "\n",
    "decTree_cv = GridSearchCV(decTree, hyperparameters, cv=10) #set up the search for the best parameter\n",
    "\n",
    "decTree_cv.fit(predictors_train, outcome_train) #fit the competing models"
   ]
  },
  {
   "cell_type": "markdown",
   "metadata": {},
   "source": [
    "\n",
    "__what is the best model/settings\n"
   ]
  },
  {
   "cell_type": "code",
   "execution_count": 11,
   "metadata": {},
   "outputs": [
    {
     "name": "stdout",
     "output_type": "stream",
     "text": [
      "0.491053590469\n",
      "{'max_depth': 4}\n"
     ]
    }
   ],
   "source": [
    "print(decTree_cv.best_score_)\n",
    "print(decTree_cv.best_params_)"
   ]
  },
  {
   "cell_type": "markdown",
   "metadata": {},
   "source": [
    "\n",
    "__and with more detail...\n"
   ]
  },
  {
   "cell_type": "code",
   "execution_count": 13,
   "metadata": {},
   "outputs": [
    {
     "name": "stdout",
     "output_type": "stream",
     "text": [
      "{'max_depth': 2}\n",
      "0.426852965332\n",
      "{'max_depth': 3}\n",
      "0.513738985284\n",
      "{'max_depth': 4}\n",
      "0.57108499148\n",
      "{'max_depth': None}\n",
      "1.0\n"
     ]
    }
   ],
   "source": [
    "for parameter, accuracy in zip(decTree_cv.cv_results_['params'], decTree_cv.cv_results_['mean_train_score']):\n",
    "    print(parameter)\n",
    "    print(accuracy)"
   ]
  },
  {
   "cell_type": "markdown",
   "metadata": {},
   "source": [
    "\n",
    "__make predictions for new sample\n"
   ]
  },
  {
   "cell_type": "code",
   "execution_count": 14,
   "metadata": {},
   "outputs": [
    {
     "name": "stdout",
     "output_type": "stream",
     "text": [
      "0.486299140201\n"
     ]
    }
   ],
   "source": [
    "outcome_pred = decTree_cv.predict(predictors_test)\n",
    "\n",
    "from sklearn.metrics import r2_score\n",
    "print(r2_score(outcome_test, outcome_pred))\n"
   ]
  },
  {
   "cell_type": "markdown",
   "metadata": {},
   "source": [
    "plot the tree "
   ]
  },
  {
   "cell_type": "code",
   "execution_count": 15,
   "metadata": {},
   "outputs": [],
   "source": [
    "from sklearn.tree import export_graphviz\n",
    "\n",
    "dotfile = open(\"dtree.dot\", 'w')\n",
    "tree.export_graphviz(decTree_cv.best_estimator_, out_file = dotfile, feature_names = [\"Ratio_Employed\", \"population_size\", \"percent_democrat_votes2016\", \"percent_republican_votes2016\"])\n",
    "dotfile.close()\n",
    "\n",
    "#http://webgraphviz.com/"
   ]
  },
  {
   "cell_type": "markdown",
   "metadata": {},
   "source": [
    "__try different models from the lecture before\n",
    "\n",
    "1) random forest: http://scikit-learn.org/stable/modules/generated/sklearn.ensemble.RandomForestRegressor.html\n",
    "\n",
    "2) k nearest neighbors: http://scikit-learn.org/stable/modules/generated/sklearn.neighbors.KNeighborsRegressor.html\n",
    "\n",
    "3) ridge regression: http://scikit-learn.org/stable/modules/generated/sklearn.linear_model.Ridge.html"
   ]
  },
  {
   "cell_type": "code",
   "execution_count": 16,
   "metadata": {},
   "outputs": [],
   "source": [
    "#choose predictors and outcome\n",
    "\n"
   ]
  },
  {
   "cell_type": "code",
   "execution_count": null,
   "metadata": {},
   "outputs": [],
   "source": [
    "#split off a training and test set...\n",
    "\n"
   ]
  },
  {
   "cell_type": "code",
   "execution_count": null,
   "metadata": {},
   "outputs": [],
   "source": [
    "#maybe standardize variables?\n",
    "\n",
    "from sklearn.preprocessing import StandardScaler\n",
    "sc=StandardScaler()\n",
    "predictors_train_std=sc.fit_transform(predictors_train)\n",
    "predictors_test_std=sc.transform(predictors_test)"
   ]
  }
 ],
 "metadata": {
  "kernelspec": {
   "display_name": "Python 3",
   "language": "python",
   "name": "python3"
  },
  "language_info": {
   "codemirror_mode": {
    "name": "ipython",
    "version": 3
   },
   "file_extension": ".py",
   "mimetype": "text/x-python",
   "name": "python",
   "nbconvert_exporter": "python",
   "pygments_lexer": "ipython3",
   "version": "3.5.3"
  }
 },
 "nbformat": 4,
 "nbformat_minor": 2
}
